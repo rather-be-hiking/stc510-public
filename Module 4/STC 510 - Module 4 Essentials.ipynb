{
 "cells": [
  {
   "cell_type": "code",
   "execution_count": 1,
   "id": "26505570",
   "metadata": {},
   "outputs": [
    {
     "name": "stderr",
     "output_type": "stream",
     "text": [
      "C:\\Users\\elenc\\AppData\\Local\\Temp/ipykernel_11992/4250501570.py:8: DeprecationWarning: executable_path has been deprecated, please pass in a Service object\n",
      "  driver=webdriver.Chrome(executable_path=config_essentials.CHROMELOC)\n"
     ]
    }
   ],
   "source": [
    "from selenium import webdriver\n",
    "from time import sleep\n",
    "import config_essentials\n",
    "from bs4 import BeautifulSoup\n",
    "import pandas as pd\n",
    "import os\n",
    "\n",
    "driver=webdriver.Chrome(executable_path=config_essentials.CHROMELOC)\n"
   ]
  },
  {
   "cell_type": "code",
   "execution_count": null,
   "id": "8bee6787",
   "metadata": {},
   "outputs": [],
   "source": [
    "\n",
    "# head over to garage and moving sales\n",
    "driver.get(\"https://gab.com/auth/sign_in\")\n",
    "#driver.get(\"https://accounts.craigslist.org/login\")\n",
    "#sleep(3)\n",
    "\n",
    "login_form = driver.find_element_by_id(\"user_email\").send_keys(cdconfig.UNAME)\n",
    "login_form = driver.find_element_by_id(\"user_password\").send_keys(cdconfig.PWORD)\n",
    "try_click = driver.find_element_by_id(\"picview\").click()\n",
    "button\n"
   ]
  },
  {
   "cell_type": "code",
   "execution_count": null,
   "id": "875557e4",
   "metadata": {},
   "outputs": [],
   "source": [
    "\n",
    "sleep(1)\n",
    "try_click = driver.find_element_by_id(\"picview\").click()\n",
    "sleep(2)\n",
    "#login_form = driver.find_element_by_name(\"inputEmailHandle\").send_keys(cdconfig.UNAME)\n",
    "\n",
    "# gather up distinct listing urls to crawl\n",
    "listing_urls = []\n",
    "bs = BeautifulSoup(driver.page_source, 'html.parser')\n",
    "block = bs.find(id=\"search-results\")\n",
    "for listing in block.find_all('a'):\n",
    "    lurl= listing['href']\n",
    "    if (lurl != '#') & (lurl not in listing_urls):\n",
    "        listing_urls.append(lurl)\n",
    "    \n",
    "#login_form = driver.find_element_by_name(\"inputPassword\").send_keys(cdconfig.PWORD)\n",
    "\n",
    "#psource = driver.page_source\n",
    "#now we could throw it into BeautifulSoup!\n",
    "#print(psource)"
   ]
  }
 ],
 "metadata": {
  "kernelspec": {
   "display_name": "Python 3 (ipykernel)",
   "language": "python",
   "name": "python3"
  },
  "language_info": {
   "codemirror_mode": {
    "name": "ipython",
    "version": 3
   },
   "file_extension": ".py",
   "mimetype": "text/x-python",
   "name": "python",
   "nbconvert_exporter": "python",
   "pygments_lexer": "ipython3",
   "version": "3.9.7"
  }
 },
 "nbformat": 4,
 "nbformat_minor": 5
}
