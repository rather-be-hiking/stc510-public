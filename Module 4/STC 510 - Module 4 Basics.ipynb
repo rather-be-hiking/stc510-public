{
 "cells": [
  {
   "cell_type": "code",
   "execution_count": 14,
   "id": "426e1340",
   "metadata": {},
   "outputs": [],
   "source": [
    "from selenium import webdriver\n",
    "from time import sleep\n",
    "import cdconfig"
   ]
  },
  {
   "cell_type": "code",
   "execution_count": 16,
   "id": "9c0c8e7f",
   "metadata": {},
   "outputs": [
    {
     "data": {
      "text/plain": [
       "'C:/User/elenc/ChromeDriver/chromedriver.exe'"
      ]
     },
     "execution_count": 16,
     "metadata": {},
     "output_type": "execute_result"
    }
   ],
   "source": [
    "cdconfig.CHROMELOC"
   ]
  },
  {
   "cell_type": "code",
   "execution_count": null,
   "id": "f8b8afd1",
   "metadata": {},
   "outputs": [],
   "source": []
  }
 ],
 "metadata": {
  "kernelspec": {
   "display_name": "Python 3 (ipykernel)",
   "language": "python",
   "name": "python3"
  },
  "language_info": {
   "codemirror_mode": {
    "name": "ipython",
    "version": 3
   },
   "file_extension": ".py",
   "mimetype": "text/x-python",
   "name": "python",
   "nbconvert_exporter": "python",
   "pygments_lexer": "ipython3",
   "version": "3.9.7"
  }
 },
 "nbformat": 4,
 "nbformat_minor": 5
}
