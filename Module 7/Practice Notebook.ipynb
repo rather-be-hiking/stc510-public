{
 "cells": [
  {
   "cell_type": "code",
   "execution_count": 7,
   "id": "814be21b",
   "metadata": {},
   "outputs": [
    {
     "name": "stdout",
     "output_type": "stream",
     "text": [
      "Hey there   I read that translate is the fastest way to remove punctuation\n"
     ]
    }
   ],
   "source": [
    "import string\n",
    "\n",
    "sentence = \"Hey there --  I read that translate() is the fastest way to remove punctuation!!\"\n",
    "no_punct = sentence.translate(str.maketrans('', '', string.punctuation))\n",
    "print(no_punct)"
   ]
  }
 ],
 "metadata": {
  "kernelspec": {
   "display_name": "Python 3 (ipykernel)",
   "language": "python",
   "name": "python3"
  },
  "language_info": {
   "codemirror_mode": {
    "name": "ipython",
    "version": 3
   },
   "file_extension": ".py",
   "mimetype": "text/x-python",
   "name": "python",
   "nbconvert_exporter": "python",
   "pygments_lexer": "ipython3",
   "version": "3.9.7"
  }
 },
 "nbformat": 4,
 "nbformat_minor": 5
}
