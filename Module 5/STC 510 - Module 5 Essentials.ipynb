{
 "cells": [
  {
   "cell_type": "code",
   "execution_count": null,
   "id": "deca6bd6",
   "metadata": {},
   "outputs": [],
   "source": [
    "# The natural language toolkit for tokenizing words and sentences\n",
    "from nltk.tokenize import word_tokenize\n",
    "from nltk.corpus import stopwords\n",
    "from nltk.stem import WordNetLemmatizer\n",
    "from bs4 import BeautifulSoup\n",
    "#scikit-learn is a key data science module like pandas\n",
    "from sklearn.feature_extraction.text import TfidfVectorizer\n",
    "from sklearn.model_selection import train_test_split\n",
    "from sklearn.naive_bayes import MultinomialNB\n",
    "from sklearn.metrics import accuracy_score\n",
    "import os\n",
    "import re\n",
    "import config5\n",
    "import pandas as pd\n",
    "from string import punctuation\n",
    "from datetime import datetime\n",
    "from io import StringIO\n",
    "\n",
    "english_stopwords = set(stopwords.words('english')+list(punctuation)+['..','...','....','``','//n',\"''\"])"
   ]
  }
 ],
 "metadata": {
  "kernelspec": {
   "display_name": "Python 3 (ipykernel)",
   "language": "python",
   "name": "python3"
  },
  "language_info": {
   "codemirror_mode": {
    "name": "ipython",
    "version": 3
   },
   "file_extension": ".py",
   "mimetype": "text/x-python",
   "name": "python",
   "nbconvert_exporter": "python",
   "pygments_lexer": "ipython3",
   "version": "3.9.7"
  }
 },
 "nbformat": 4,
 "nbformat_minor": 5
}
